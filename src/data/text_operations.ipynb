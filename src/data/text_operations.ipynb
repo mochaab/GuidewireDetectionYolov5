{
 "cells": [
  {
   "cell_type": "code",
   "execution_count": 2,
   "metadata": {},
   "outputs": [
    {
     "name": "stdout",
     "output_type": "stream",
     "text": [
      "Extensions removed and saved to /home/nami/Dokumente/DeepLearningProjects/GuidewireDetectionYolov5/data/raw/cycle_1_val.txt\n"
     ]
    }
   ],
   "source": [
    "# source_text = '/home/nami/Dokumente/DeepLearningProjects/GuidewireDetectionYolov5/data/raw/cycle_1_train.txt'\n",
    "\n",
    "import os\n",
    "\n",
    "def remove_extensions(filename):\n",
    "    # Split the filename and remove the extension\n",
    "    base_name = os.path.splitext(filename)[0]\n",
    "    return base_name\n",
    "\n",
    "input_file = \"/home/nami/Dokumente/DeepLearningProjects/GuidewireDetectionYolov5/data/raw/cycle_1_val_old.txt\"\n",
    "output_file = \"/home/nami/Dokumente/DeepLearningProjects/GuidewireDetectionYolov5/data/raw/cycle_1_val.txt\"\n",
    "\n",
    "# Read the lines from the input file\n",
    "with open(input_file, 'r') as file:\n",
    "    lines = file.readlines()\n",
    "\n",
    "# Remove extensions from each line\n",
    "modified_lines = [remove_extensions(line.strip()) for line in lines]\n",
    "\n",
    "# Write the modified lines to the output file\n",
    "with open(output_file, 'w') as file:\n",
    "    file.write('\\n'.join(modified_lines))\n",
    "\n",
    "print(\"Extensions removed and saved to\", output_file)"
   ]
  }
 ],
 "metadata": {
  "kernelspec": {
   "display_name": "base",
   "language": "python",
   "name": "python3"
  },
  "language_info": {
   "codemirror_mode": {
    "name": "ipython",
    "version": 3
   },
   "file_extension": ".py",
   "mimetype": "text/x-python",
   "name": "python",
   "nbconvert_exporter": "python",
   "pygments_lexer": "ipython3",
   "version": "3.8.5"
  }
 },
 "nbformat": 4,
 "nbformat_minor": 2
}
